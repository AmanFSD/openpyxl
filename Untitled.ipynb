{
 "cells": [
  {
   "cell_type": "code",
   "execution_count": 3,
   "id": "2314ba22",
   "metadata": {},
   "outputs": [
    {
     "name": "stderr",
     "output_type": "stream",
     "text": [
      "/var/folders/0l/7ykfklkj1yb6htppctzqrgjr0000gn/T/ipykernel_1866/369552870.py:13: DeprecationWarning: Call to deprecated function copy (Use copy(obj) or cell.obj = cell.obj + other).\n",
      "  cell.font = cell.font.copy(color='FF0000')\n"
     ]
    }
   ],
   "source": [
    "from openpyxl import Workbook\n",
    "\n",
    "# Create a new workbook and add a new worksheet\n",
    "wb = Workbook()\n",
    "ws = wb.active\n",
    "\n",
    "# Write some data to the worksheet\n",
    "ws['A1'] = 'Hello'\n",
    "ws['A2'] = 'World'\n",
    "\n",
    "# Change the color of the text in cell A1 to red\n",
    "cell = ws['A1']\n",
    "cell.\n",
    "cell.font = cell.font.copy(color='FF0000')\n",
    "\n",
    "# Save the workbook\n",
    "wb.save('example.xlsx')\n"
   ]
  },
  {
   "cell_type": "code",
   "execution_count": null,
   "id": "33e83c67",
   "metadata": {},
   "outputs": [],
   "source": []
  }
 ],
 "metadata": {
  "kernelspec": {
   "display_name": "Python 3 (ipykernel)",
   "language": "python",
   "name": "python3"
  },
  "language_info": {
   "codemirror_mode": {
    "name": "ipython",
    "version": 3
   },
   "file_extension": ".py",
   "mimetype": "text/x-python",
   "name": "python",
   "nbconvert_exporter": "python",
   "pygments_lexer": "ipython3",
   "version": "3.9.13"
  }
 },
 "nbformat": 4,
 "nbformat_minor": 5
}
